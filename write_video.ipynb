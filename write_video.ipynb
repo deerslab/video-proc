{
 "cells": [
  {
   "cell_type": "code",
   "execution_count": 1,
   "id": "necessary-consumer",
   "metadata": {},
   "outputs": [],
   "source": [
    "import cv2\n",
    "import deepface\n",
    "\n",
    "from tqdm.notebook import tqdm\n",
    "\n",
    "import numpy as np\n",
    "from deepface.extendedmodels import Race\n",
    "from tensorflow.keras.preprocessing import image\n",
    "\n",
    "import mtcnn"
   ]
  },
  {
   "cell_type": "code",
   "execution_count": 2,
   "id": "blocked-period",
   "metadata": {},
   "outputs": [],
   "source": [
    "face_min_height_scale = 5"
   ]
  },
  {
   "cell_type": "code",
   "execution_count": 3,
   "id": "traditional-steps",
   "metadata": {},
   "outputs": [],
   "source": [
    "race_labels = ['asian', 'indian', 'black', 'white', 'middle eastern', 'latino hispanic']"
   ]
  },
  {
   "cell_type": "code",
   "execution_count": null,
   "id": "automatic-activation",
   "metadata": {},
   "outputs": [],
   "source": []
  },
  {
   "cell_type": "code",
   "execution_count": 4,
   "id": "proud-penetration",
   "metadata": {},
   "outputs": [],
   "source": [
    "model = Race.loadModel()"
   ]
  },
  {
   "cell_type": "code",
   "execution_count": 5,
   "id": "separate-answer",
   "metadata": {},
   "outputs": [],
   "source": [
    "cap = cv2.VideoCapture('video1.mp4')"
   ]
  },
  {
   "cell_type": "code",
   "execution_count": null,
   "id": "oriented-granny",
   "metadata": {},
   "outputs": [],
   "source": []
  },
  {
   "cell_type": "code",
   "execution_count": 6,
   "id": "alert-token",
   "metadata": {},
   "outputs": [],
   "source": [
    "fps = cap.get(cv2.CAP_PROP_FPS)\n",
    "fps = round(fps)\n",
    "length = int(cap.get(cv2.CAP_PROP_FRAME_COUNT))\n",
    "\n",
    "width  = int(cap.get(cv2.CAP_PROP_FRAME_WIDTH))\n",
    "height = int(cap.get(cv2.CAP_PROP_FRAME_HEIGHT))\n",
    "\n",
    "face_min_height = int(height//face_min_height_scale)"
   ]
  },
  {
   "cell_type": "code",
   "execution_count": 7,
   "id": "efficient-retreat",
   "metadata": {},
   "outputs": [],
   "source": [
    "fourcc = cv2.VideoWriter_fourcc(*'MP4V')\n",
    "out = cv2.VideoWriter('video1_out3.mp4', fourcc, fps, (width, height))"
   ]
  },
  {
   "cell_type": "code",
   "execution_count": null,
   "id": "exclusive-parks",
   "metadata": {},
   "outputs": [],
   "source": []
  },
  {
   "cell_type": "code",
   "execution_count": 8,
   "id": "random-vertex",
   "metadata": {},
   "outputs": [],
   "source": [
    "face_detector = mtcnn.MTCNN()\n",
    "\n",
    "def face_detect_mtcnn(img):\n",
    "    img_rgb = cv2.cvtColor(img, cv2.COLOR_BGR2RGB)\n",
    "    detections = face_detector.detect_faces(img_rgb)\n",
    "\n",
    "    faces = []\n",
    "    if len(detections) > 0:\n",
    "        for d in detections:        \n",
    "            x, y, w, h = d[\"box\"]\n",
    "            faces.append((x,y,w,h))\n",
    "            \n",
    "    return faces"
   ]
  },
  {
   "cell_type": "code",
   "execution_count": null,
   "id": "orange-jerusalem",
   "metadata": {},
   "outputs": [],
   "source": []
  },
  {
   "cell_type": "code",
   "execution_count": 9,
   "id": "capital-permission",
   "metadata": {},
   "outputs": [],
   "source": [
    "def ethnicity_detect(img, target_size=(224, 224)):\n",
    "    result = 'Unknown'\n",
    "    \n",
    "    try:\n",
    "        img = cv2.resize(img, target_size)\n",
    "        img_pixels = image.img_to_array(img)\n",
    "        img_pixels = np.expand_dims(img_pixels, axis = 0)\n",
    "        img_pixels /= 255\n",
    "\n",
    "        preds = model.predict(img_pixels)\n",
    "        result = race_labels[np.argmax(preds)]\n",
    "        \n",
    "    except:\n",
    "        pass\n",
    "    \n",
    "    return result\n",
    "    "
   ]
  },
  {
   "cell_type": "code",
   "execution_count": 10,
   "id": "experienced-algorithm",
   "metadata": {},
   "outputs": [],
   "source": [
    "def face_detect(img):\n",
    "    face_cascade = cv2.CascadeClassifier('haarcascade_frontalface_default.xml')\n",
    "    gray = cv2.cvtColor(img, cv2.COLOR_BGR2GRAY)\n",
    "    faces = face_cascade.detectMultiScale(gray,\n",
    "                                          scaleFactor = 1.3,\n",
    "                                          minNeighbors = 5,\n",
    "                                          minSize = (face_min_height, face_min_height))\n",
    "    return faces\n",
    "    "
   ]
  },
  {
   "cell_type": "code",
   "execution_count": 11,
   "id": "subject-serbia",
   "metadata": {},
   "outputs": [],
   "source": [
    "def show_faces(img, faces):\n",
    "    for (x,y,w,h) in faces:\n",
    "        img = cv2.rectangle(img,(x,y),(x+w,y+h),(255,0,0),2)\n",
    "        \n",
    "        face = img[y:y+h, x:x+w]\n",
    "        \n",
    "        race_label = ethnicity_detect(face)\n",
    "        img = cv2.putText(img, race_label, (int(x),int(y+h)), cv2.FONT_HERSHEY_SIMPLEX, 1, (255, 255, 255), 2)\n",
    "        \n",
    "    return img\n",
    "\n",
    "def cut_faces(img, faces):\n",
    "    imgs = []\n",
    "    for (x,y,w,h) in faces:\n",
    "        imgs.append(img[y:y+h, x:x+w])\n",
    "    return imgs"
   ]
  },
  {
   "cell_type": "code",
   "execution_count": null,
   "id": "veterinary-chambers",
   "metadata": {},
   "outputs": [
    {
     "data": {
      "application/vnd.jupyter.widget-view+json": {
       "model_id": "b8d90b7834434336a1f080a16926186b",
       "version_major": 2,
       "version_minor": 0
      },
      "text/plain": [
       "  0%|          | 0/61154 [00:00<?, ?it/s]"
      ]
     },
     "metadata": {},
     "output_type": "display_data"
    }
   ],
   "source": [
    "count = 0\n",
    "frame_face_count = 0\n",
    "\n",
    "pbar = tqdm(total=length)\n",
    "\n",
    "\n",
    "while(cap.isOpened()):\n",
    "    cap.set(1, count)\n",
    "    ret, frame = cap.read()\n",
    "    \n",
    "    if ret:\n",
    "        \n",
    "        faces = face_detect_mtcnn(frame)\n",
    "\n",
    "        frame = show_faces(frame, faces)\n",
    "\n",
    "        out.write(frame)\n",
    "\n",
    "        count+=1\n",
    "        pbar.update()\n",
    "\n",
    "        if cv2.waitKey(1) & 0xFF == ord('q'):\n",
    "            break\n",
    "            \n",
    "    else:\n",
    "        break\n",
    "        \n",
    "cap.release()\n",
    "out.release()\n",
    "pbar.close()"
   ]
  },
  {
   "cell_type": "code",
   "execution_count": null,
   "id": "junior-petroleum",
   "metadata": {},
   "outputs": [],
   "source": [
    "\n"
   ]
  }
 ],
 "metadata": {
  "kernelspec": {
   "display_name": "Python 3",
   "language": "python",
   "name": "python3"
  },
  "language_info": {
   "codemirror_mode": {
    "name": "ipython",
    "version": 3
   },
   "file_extension": ".py",
   "mimetype": "text/x-python",
   "name": "python",
   "nbconvert_exporter": "python",
   "pygments_lexer": "ipython3",
   "version": "3.8.5"
  }
 },
 "nbformat": 4,
 "nbformat_minor": 5
}
