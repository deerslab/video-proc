{
 "cells": [
  {
   "cell_type": "code",
   "execution_count": null,
   "id": "necessary-consumer",
   "metadata": {},
   "outputs": [],
   "source": [
    "import cv2\n",
    "import deepface\n",
    "\n",
    "from deepface.extendedmodels import Race"
   ]
  },
  {
   "cell_type": "code",
   "execution_count": null,
   "id": "blocked-period",
   "metadata": {},
   "outputs": [],
   "source": [
    "face_min_height_scale = 5"
   ]
  },
  {
   "cell_type": "code",
   "execution_count": null,
   "id": "traditional-steps",
   "metadata": {},
   "outputs": [],
   "source": [
    "race_labels = ['asian', 'indian', 'black', 'white', 'middle eastern', 'latino hispanic']"
   ]
  },
  {
   "cell_type": "code",
   "execution_count": null,
   "id": "automatic-activation",
   "metadata": {},
   "outputs": [],
   "source": []
  },
  {
   "cell_type": "code",
   "execution_count": null,
   "id": "proud-penetration",
   "metadata": {},
   "outputs": [],
   "source": [
    "model = Race.loadModel()"
   ]
  },
  {
   "cell_type": "code",
   "execution_count": null,
   "id": "separate-answer",
   "metadata": {},
   "outputs": [],
   "source": [
    "cap = cv2.VideoCapture('video1.mp4')"
   ]
  },
  {
   "cell_type": "code",
   "execution_count": null,
   "id": "oriented-granny",
   "metadata": {},
   "outputs": [],
   "source": []
  },
  {
   "cell_type": "code",
   "execution_count": null,
   "id": "alert-token",
   "metadata": {},
   "outputs": [],
   "source": [
    "fps = cap.get(cv2.CAP_PROP_FPS)\n",
    "fps = round(fps)*10\n",
    "\n",
    "width  = int(cap.get(cv2.CAP_PROP_FRAME_WIDTH))\n",
    "height = int(cap.get(cv2.CAP_PROP_FRAME_HEIGHT))\n",
    "\n",
    "face_min_height = int(height//face_min_height_scale)"
   ]
  },
  {
   "cell_type": "code",
   "execution_count": null,
   "id": "efficient-retreat",
   "metadata": {},
   "outputs": [],
   "source": [
    "fourcc = cv2.VideoWriter_fourcc('M', 'J', 'P', 'G')\n",
    "out = cv2.VideoWriter('video1_out.avi', fourcc, 1, (width, height))"
   ]
  },
  {
   "cell_type": "code",
   "execution_count": null,
   "id": "capital-permission",
   "metadata": {},
   "outputs": [],
   "source": [
    "def ethnicity_detect(img, target_size=(224, 224)):\n",
    "    img = cv2.resize(img, target_size)\n",
    "    img_pixels = image.img_to_array(img)\n",
    "    img_pixels = np.expand_dims(img_pixels, axis = 0)\n",
    "    img_pixels /= 255\n",
    "    \n",
    "    preds = model.predict(img_pixels)\n",
    "    \n",
    "    return race_labels[np.argmax(preds)]\n",
    "    "
   ]
  },
  {
   "cell_type": "code",
   "execution_count": null,
   "id": "experienced-algorithm",
   "metadata": {},
   "outputs": [],
   "source": [
    "def face_detect(img):\n",
    "    face_cascade = cv2.CascadeClassifier('haarcascade_frontalface_default.xml')\n",
    "    gray = cv2.cvtColor(img, cv2.COLOR_BGR2GRAY)\n",
    "    faces = face_cascade.detectMultiScale(gray,\n",
    "                                          scaleFactor = 1.1,\n",
    "                                          minNeighbors = 5,\n",
    "                                          minSize = (face_min_height, face_min_height)\n",
    "                                         )\n",
    "    return faces\n",
    "    "
   ]
  },
  {
   "cell_type": "code",
   "execution_count": null,
   "id": "subject-serbia",
   "metadata": {},
   "outputs": [],
   "source": [
    "def show_faces(img, faces):\n",
    "    for (x,y,w,h) in faces:\n",
    "        img = cv2.rectangle(img,(x,y),(x+w,y+h),(255,0,0),2)\n",
    "        \n",
    "        face = img[y:y+h, x:x+w]\n",
    "        \n",
    "        race_label = ethnicity_detect(face)\n",
    "        img = cv2.putText(img, race_label, (int(x),int(y+h)), cv2.FONT_HERSHEY_SIMPLEX, 1, (255, 255, 255), 2)\n",
    "        \n",
    "    return img\n",
    "\n",
    "def cut_faces(img, faces):\n",
    "    imgs = []\n",
    "    for (x,y,w,h) in faces:\n",
    "        imgs.append(img[y:y+h, x:x+w])\n",
    "    return imgs"
   ]
  },
  {
   "cell_type": "code",
   "execution_count": null,
   "id": "veterinary-chambers",
   "metadata": {},
   "outputs": [],
   "source": [
    "count = 0\n",
    "frame_face_count = 0\n",
    "\n",
    "while(cap.isOpened()):\n",
    "    cap.set(1, count)\n",
    "    ret, frame = cap.read()\n",
    "    \n",
    "    if ret:\n",
    "        \n",
    "        faces = face_detect(frame)\n",
    "\n",
    "        frame = show_faces(frame, faces)\n",
    "\n",
    "        out.write(frame)\n",
    "\n",
    "        count+=fps\n",
    "\n",
    "        if cv2.waitKey(1) & 0xFF == ord('q'):\n",
    "            break\n",
    "            \n",
    "    else:\n",
    "        break\n",
    "        \n",
    "cap.release()\n",
    "out.release()"
   ]
  },
  {
   "cell_type": "code",
   "execution_count": null,
   "id": "junior-petroleum",
   "metadata": {},
   "outputs": [],
   "source": [
    "\n"
   ]
  }
 ],
 "metadata": {
  "kernelspec": {
   "display_name": "Python 3",
   "language": "python",
   "name": "python3"
  },
  "language_info": {
   "codemirror_mode": {
    "name": "ipython",
    "version": 3
   },
   "file_extension": ".py",
   "mimetype": "text/x-python",
   "name": "python",
   "nbconvert_exporter": "python",
   "pygments_lexer": "ipython3",
   "version": "3.7.4"
  }
 },
 "nbformat": 4,
 "nbformat_minor": 5
}
